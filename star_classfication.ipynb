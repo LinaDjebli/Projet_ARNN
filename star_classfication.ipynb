{
 "cells": [
  {
   "cell_type": "markdown",
   "id": "b51e7832",
   "metadata": {},
   "source": [
    "import of lib\n"
   ]
  },
  {
   "cell_type": "code",
   "execution_count": 1,
   "id": "26da6036",
   "metadata": {},
   "outputs": [],
   "source": [
    "import pandas as pd"
   ]
  },
  {
   "cell_type": "markdown",
   "id": "f3b8763a",
   "metadata": {},
   "source": [
    "Dataset Cleanup"
   ]
  },
  {
   "cell_type": "markdown",
   "id": "a792d94f",
   "metadata": {},
   "source": [
    "Remove Rows"
   ]
  },
  {
   "cell_type": "code",
   "execution_count": 5,
   "id": "720ca14b",
   "metadata": {},
   "outputs": [
    {
     "name": "stdout",
     "output_type": "stream",
     "text": [
      "obj_ID         0\n",
      "alpha          0\n",
      "delta          0\n",
      "u              0\n",
      "g              0\n",
      "r              0\n",
      "i              0\n",
      "z              0\n",
      "run_ID         0\n",
      "rerun_ID       0\n",
      "cam_col        0\n",
      "field_ID       0\n",
      "spec_obj_ID    0\n",
      "class          0\n",
      "redshift       0\n",
      "plate          0\n",
      "MJD            0\n",
      "fiber_ID       0\n",
      "dtype: int64\n"
     ]
    }
   ],
   "source": [
    "df = pd.read_csv(\"star_classification.csv\")\n",
    "\n",
    "# Affichage du nombre de valeurs manquantes par colonne\n",
    "print(df.isnull().sum())\n",
    "\n",
    "# Suppression des lignes avec des valeurs manquantes\n",
    "df_cleaned = df.dropna()\n",
    "\n",
    " "
   ]
  },
  {
   "cell_type": "markdown",
   "id": "13e7b5b7",
   "metadata": {},
   "source": [
    "Suppression des doublons"
   ]
  },
  {
   "cell_type": "code",
   "execution_count": 4,
   "id": "b421aa7c",
   "metadata": {},
   "outputs": [
    {
     "name": "stdout",
     "output_type": "stream",
     "text": [
      "Nombre de doublons : 0\n"
     ]
    }
   ],
   "source": [
    "print(\"Nombre de doublons :\", df.duplicated().sum())\n",
    "\n",
    "# Suppression des doublons\n",
    "df_no_duplicates = df.drop_duplicates()"
   ]
  }
 ],
 "metadata": {
  "kernelspec": {
   "display_name": "Python 3",
   "language": "python",
   "name": "python3"
  },
  "language_info": {
   "codemirror_mode": {
    "name": "ipython",
    "version": 3
   },
   "file_extension": ".py",
   "mimetype": "text/x-python",
   "name": "python",
   "nbconvert_exporter": "python",
   "pygments_lexer": "ipython3",
   "version": "3.12.7"
  }
 },
 "nbformat": 4,
 "nbformat_minor": 5
}
